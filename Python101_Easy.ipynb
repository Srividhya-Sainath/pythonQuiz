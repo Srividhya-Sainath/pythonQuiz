{
  "nbformat": 4,
  "nbformat_minor": 0,
  "metadata": {
    "colab": {
      "provenance": []
    },
    "kernelspec": {
      "name": "python3",
      "display_name": "Python 3"
    },
    "language_info": {
      "name": "python"
    }
  },
  "cells": [
    {
      "cell_type": "markdown",
      "source": [
        "![hacker (1).png](data:image/png;base64,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)"
      ],
      "metadata": {
        "id": "yuryz3Ohk-zs"
      }
    },
    {
      "cell_type": "markdown",
      "source": [
        "\n",
        "###**Attention, all aspiring Python learners and coding clinicians! Welcome to our Python Quiz!**\n",
        "###**(Level - Easy)**"
      ],
      "metadata": {
        "id": "u3XwmDvKv_Ca"
      }
    },
    {
      "cell_type": "markdown",
      "source": [
        "\n",
        "\n",
        "If you are already aware of how Google colab works, then you could skip these pointers and go ahead with the quiz. But if this is your first time, then lookout for the following things:\n",
        "*   Make sure the runtime is connected. The notebook shows a green check and ‘Connected’ on the top right corner.\n",
        "*   To run cells, press SHIFT + ENTER. Or simply click on this ![Screenshot 2024-03-07 at 16.07.07.png](data:image/png;base64,iVBORw0KGgoAAAANSUhEUgAAACgAAAAUCAYAAAD/Rn+7AAABW2lDQ1BJQ0MgUHJvZmlsZQAAKJFjYGBiSSwoyGFhYGDIzSspCnJ3UoiIjFJgf8HAzMDOwM/AxyCXmFxc4BgQ4ANUwgCjUcG3awyMIPqyLsiseKkz/oGxs+OWzD776+JLrz2Y6lEAV0pqcTKQ/gPEOskFRSUMDIwaQHZAeUkBiF0BZIsUAR0FZPeA2OkQ9gIQOwnC3gJWExLkDGSfALIFkjMSU4DsGyAzk5DE05HYuTmlyVA3gFzPk5oXGgwSB2IZhgAGHwYjBnMGSyAZyOCHQ60JWK0zQz5DAUMlQxFDJkM6QwZDCYMCgyNQpIAhhyEVyPZkyGNIZtBj0AGyjRgMgNgEFMboYYcQy+9nYLDUBlrFjRBLtmJg2KHPwCA4HyGmwsPAwLeMgeFAU0FiUSI8RBm/sRSnGRtB2NzbGRhYp/3//zmcgYFdk4Hh7/X//39v////L1Af8y2g3m8AVTtiL/uDjZsAAABWZVhJZk1NACoAAAAIAAGHaQAEAAAAAQAAABoAAAAAAAOShgAHAAAAEgAAAESgAgAEAAAAAQAAACigAwAEAAAAAQAAABQAAAAAQVNDSUkAAABTY3JlZW5zaG90LR6cqgAAAdRpVFh0WE1MOmNvbS5hZG9iZS54bXAAAAAAADx4OnhtcG1ldGEgeG1sbnM6eD0iYWRvYmU6bnM6bWV0YS8iIHg6eG1wdGs9IlhNUCBDb3JlIDYuMC4wIj4KICAgPHJkZjpSREYgeG1sbnM6cmRmPSJodHRwOi8vd3d3LnczLm9yZy8xOTk5LzAyLzIyLXJkZi1zeW50YXgtbnMjIj4KICAgICAgPHJkZjpEZXNjcmlwdGlvbiByZGY6YWJvdXQ9IiIKICAgICAgICAgICAgeG1sbnM6ZXhpZj0iaHR0cDovL25zLmFkb2JlLmNvbS9leGlmLzEuMC8iPgogICAgICAgICA8ZXhpZjpQaXhlbFlEaW1lbnNpb24+MjA8L2V4aWY6UGl4ZWxZRGltZW5zaW9uPgogICAgICAgICA8ZXhpZjpQaXhlbFhEaW1lbnNpb24+NDA8L2V4aWY6UGl4ZWxYRGltZW5zaW9uPgogICAgICAgICA8ZXhpZjpVc2VyQ29tbWVudD5TY3JlZW5zaG90PC9leGlmOlVzZXJDb21tZW50PgogICAgICA8L3JkZjpEZXNjcmlwdGlvbj4KICAgPC9yZGY6UkRGPgo8L3g6eG1wbWV0YT4K1zKGrgAAAOlJREFUSA3tlrENgzAURM9REA0dbmACpkBiADagYwQKL8IYFEzAKJQgRENHgQSBr5CWb5yCwpYsN3e6pzPoW2z7mucZT12vp4KdXI8HfJ+k3LOua6zrSvI0TeE4DteKpmkwTRPp4ziGlPLSewvQ932EYfgDvUz5CrquQ9u2tKMoYgHeuuIkSVAUBVzX5bKRLssy5Hmu5bkFqJVgKLaAhgXCNmgbNG3A1G+/QdMGtUfdEVhVFe2yLOF5HptBKYVhGNj6Qyh034N932P3UEgQBBBCsAPHccSyLKQ/5jlnVGoDsmn+JLQ/iWmRH6gSSXCwoqwyAAAAAElFTkSuQmCC) botton next to the cell.\n",
        "\n",
        "\n",
        "\n",
        "\n"
      ],
      "metadata": {
        "id": "J100_VoJYnp1"
      }
    },
    {
      "cell_type": "code",
      "execution_count": null,
      "metadata": {
        "colab": {
          "base_uri": "https://localhost:8080/"
        },
        "id": "iWwdY3yFR4Si",
        "outputId": "b127b778-e398-47b9-852c-002351cda555"
      },
      "outputs": [
        {
          "output_type": "stream",
          "name": "stdout",
          "text": [
            "Exercise 0 is correct\n"
          ]
        }
      ],
      "source": [
        "# Example problem:\n",
        "# The hashtag \"#\" character in a line of Python code is the comment character.\n",
        "# The lines below will test your answer. If you see an error, then it means that your answer is incorrect or incomplete.\n",
        "# Uncomment the lines below and run this cell.\n",
        "\n",
        "# learning_python_right_now = True\n",
        "# assert learning_python_right_now == True, \"If you see a NameError, it means that the variable is not created and assigned a value. An 'Assertion Error' means that the value of the variable is incorrect.\"\n",
        "# print(\"Exercise 0 is correct\") # This line will print if your solution passes the assertion above."
      ]
    },
    {
      "cell_type": "markdown",
      "source": [
        "Run the cell below to generate some numbers to use in our functions later."
      ],
      "metadata": {
        "id": "GaZmeweCLdIl"
      }
    },
    {
      "cell_type": "code",
      "source": [
        "import random\n",
        "\n",
        "positive_even_number = random.randrange(2, 101, 2)\n",
        "negative_even_number = random.randrange(-100, -1, 2)\n",
        "\n",
        "positive_odd_number = random.randrange(1, 100, 2)\n",
        "negative_odd_number = random.randrange(-101, 0, 2)\n",
        "print(\"We now have some random numbers available for future exercises.\")"
      ],
      "metadata": {
        "colab": {
          "base_uri": "https://localhost:8080/"
        },
        "id": "GFn9ILJAWT_o",
        "outputId": "eed6e8b1-2819-4df3-97e8-cdf22e7e75e4"
      },
      "execution_count": null,
      "outputs": [
        {
          "output_type": "stream",
          "name": "stdout",
          "text": [
            "We now have some random numbers available for future exercises.\n"
          ]
        }
      ]
    },
    {
      "cell_type": "markdown",
      "source": [
        "# **Exercise 1**\n",
        "Define a function named addition that takes two numbers as input and returns their sum."
      ],
      "metadata": {
        "id": "AT5-qPl7NHxm"
      }
    },
    {
      "cell_type": "code",
      "source": [
        "# Write your code here"
      ],
      "metadata": {
        "id": "BNfRbX1BNWyC"
      },
      "execution_count": null,
      "outputs": []
    },
    {
      "cell_type": "code",
      "source": [
        "assert addition(3,2) == 5\n",
        "assert addition(100,350) == 450\n",
        "print(\"Exercise 1 is correct\")"
      ],
      "metadata": {
        "id": "qfGM8SXlScRW",
        "colab": {
          "base_uri": "https://localhost:8080/"
        },
        "outputId": "bdd93b66-d520-46bd-b91f-d4a42afa7087"
      },
      "execution_count": null,
      "outputs": [
        {
          "output_type": "stream",
          "name": "stdout",
          "text": [
            "Exercise 1 is correct\n"
          ]
        }
      ]
    },
    {
      "cell_type": "markdown",
      "source": [
        "# **Exercise 2**\n",
        "Write a function named is_positive that takes in a number and returns True or if that number is positive else returns False."
      ],
      "metadata": {
        "id": "OzrdflHSNaLI"
      }
    },
    {
      "cell_type": "code",
      "source": [
        "# Write your code here"
      ],
      "metadata": {
        "id": "cDppNgNiNgwH"
      },
      "execution_count": null,
      "outputs": []
    },
    {
      "cell_type": "code",
      "source": [
        "assert is_positive(positive_even_number) == True, \"Ensure that the function is defined, named properly, and returns the correct value\"\n",
        "assert is_positive(negative_odd_number) == False,\n",
        "assert is_positive(0) == False, \"Zero is not a positive number.\"\n",
        "print(\"Exercise 2 is correct.\")"
      ],
      "metadata": {
        "id": "1f5_uHL5U4u-"
      },
      "execution_count": null,
      "outputs": []
    },
    {
      "cell_type": "markdown",
      "source": [
        "# **Exercise 3**\n",
        "\n",
        "Define a function named even_or_odd that takes an integer as input and returns 'Even' if the number is even, and 'Odd' if the number is odd."
      ],
      "metadata": {
        "id": "e-bzxfEJoySG"
      }
    },
    {
      "cell_type": "code",
      "source": [
        "# Write your code here"
      ],
      "metadata": {
        "id": "NflKIA06pH3t"
      },
      "execution_count": null,
      "outputs": []
    },
    {
      "cell_type": "code",
      "source": [
        "assert even_or_odd(negative_even_number) == 'Even'\n",
        "assert even_or_odd(positive_odd_number) == 'Odd'\n",
        "print('Exercise 3 is correct.')"
      ],
      "metadata": {
        "id": "8qaSrwGHWsdO"
      },
      "execution_count": null,
      "outputs": []
    },
    {
      "cell_type": "markdown",
      "source": [
        "# **Exercise 4**\n",
        "Write a function named calculate_average that calculates the average of a list of numbers."
      ],
      "metadata": {
        "id": "BLyOITNZpbf9"
      }
    },
    {
      "cell_type": "code",
      "source": [
        "# Write your code here"
      ],
      "metadata": {
        "id": "-vI0l5sQhGEY"
      },
      "execution_count": null,
      "outputs": []
    },
    {
      "cell_type": "code",
      "source": [
        "assert calculate_average([1,2,3,4,5,6,7,8,9,10]) == 5.5\n",
        "assert calculate_average([23,-2,-3,24,75,-6,17,28,993,130]) == 127.9\n",
        "print('Exercise 4 is correct')"
      ],
      "metadata": {
        "id": "8NaUtxpkppzy"
      },
      "execution_count": null,
      "outputs": []
    },
    {
      "cell_type": "markdown",
      "source": [
        "# **Exercise 5**\n",
        "Write a function named calculate_factorial that takes a positive integer as input and returns the factorial of that number.\n",
        "Note: The factorial of a non-negative integer n is the product of all positive integers less than or equal to n.\n",
        "For example: The Factorial of 5 is (5×4×3×2×1 = 120)"
      ],
      "metadata": {
        "id": "x7lbGr4Esi0K"
      }
    },
    {
      "cell_type": "code",
      "source": [
        "# Write your code here"
      ],
      "metadata": {
        "id": "hUQSfUZ1wLVq"
      },
      "execution_count": null,
      "outputs": []
    },
    {
      "cell_type": "code",
      "source": [
        "assert calculate_factorial(10) == 3628800\n",
        "assert calculate_factorial(23) == 25852016738884976640000\n",
        "print('Exercise 5 is correct')"
      ],
      "metadata": {
        "id": "oFdCYo90kTMb"
      },
      "execution_count": null,
      "outputs": []
    },
    {
      "cell_type": "markdown",
      "source": [
        "# **Exercise 6**\n",
        "Write a function definition named second_to_last that takes in sequence and returns the second to last value of that sequence."
      ],
      "metadata": {
        "id": "lk7kd3tJyZNy"
      }
    },
    {
      "cell_type": "code",
      "source": [
        "# Write your code here"
      ],
      "metadata": {
        "id": "BSVKeX56yiHa"
      },
      "execution_count": null,
      "outputs": []
    },
    {
      "cell_type": "code",
      "source": [
        "assert second_to_last(\"python\") == \"o\"\n",
        "assert second_to_last([1, 2, 3, 4]) == 3\n",
        "assert second_to_last([\"python\", \"is\", \"awesome\"]) == \"is\"\n",
        "print(\"Exercise 6 is correct.\")"
      ],
      "metadata": {
        "id": "idFof96L49Si"
      },
      "execution_count": null,
      "outputs": []
    }
  ]
}